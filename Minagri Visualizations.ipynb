{
 "cells": [
  {
   "cell_type": "markdown",
   "metadata": {
    "extensions": {
     "jupyter_dashboards": {
      "version": 1,
      "views": {
       "grid_default": {},
       "report_default": {}
      }
     }
    }
   },
   "source": [
    "# DHIS Data Visualization"
   ]
  },
  {
   "cell_type": "code",
   "execution_count": 12,
   "metadata": {
    "extensions": {
     "jupyter_dashboards": {
      "version": 1,
      "views": {
       "grid_default": {},
       "report_default": {}
      }
     }
    }
   },
   "outputs": [],
   "source": [
    "{\n",
    "    \"tags\": [\n",
    "        \"hidecode\",\n",
    "    ]\n",
    "}\n",
    "import pandas as pd\n",
    "import numpy as np\n",
    "import seaborn as sb\n",
    "import matplotlib.pyplot as plt\n",
    "sb.set_style(\"darkgrid\")\n",
    "sb.set()\n",
    "from pylab import rcParams\n",
    "%matplotlib inline\n",
    "from ipywidgets import interact\n",
    "from ipywidgets import interact, interact_manual"
   ]
  },
  {
   "cell_type": "code",
   "execution_count": null,
   "metadata": {
    "extensions": {
     "jupyter_dashboards": {
      "version": 1,
      "views": {
       "grid_default": {},
       "report_default": {}
      }
     }
    }
   },
   "outputs": [],
   "source": [
    "# *For this dashboard, we are going to visualize*\n",
    "*  *crops planted for season B 2018-2019 at the national level.* \n",
    "*   *we will also visualize the type of fertilizers used and quantity*, \n",
    "* *the quantity (in KG) of seeds used*\n",
    "* *And Finally we will visualize the number and types of cows distributed from July 2019 to June 2019*"
   ]
  },
  {
   "cell_type": "code",
   "execution_count": 35,
   "metadata": {
    "extensions": {
     "jupyter_dashboards": {
      "version": 1,
      "views": {
       "grid_default": {},
       "report_default": {}
      }
     }
    }
   },
   "outputs": [
    {
     "data": {
      "text/html": [
       "<div>\n",
       "<style scoped>\n",
       "    .dataframe tbody tr th:only-of-type {\n",
       "        vertical-align: middle;\n",
       "    }\n",
       "\n",
       "    .dataframe tbody tr th {\n",
       "        vertical-align: top;\n",
       "    }\n",
       "\n",
       "    .dataframe thead th {\n",
       "        text-align: right;\n",
       "    }\n",
       "</style>\n",
       "<table border=\"1\" class=\"dataframe\">\n",
       "  <thead>\n",
       "    <tr style=\"text-align: right;\">\n",
       "      <th></th>\n",
       "      <th>district</th>\n",
       "      <th>maize</th>\n",
       "      <th>bush_beans</th>\n",
       "      <th>climbing_beans</th>\n",
       "      <th>rice</th>\n",
       "      <th>irish_potatoes</th>\n",
       "      <th>cassava</th>\n",
       "      <th>wheat</th>\n",
       "      <th>soya_beans</th>\n",
       "      <th>Total</th>\n",
       "    </tr>\n",
       "  </thead>\n",
       "  <tbody>\n",
       "    <tr>\n",
       "      <th>26</th>\n",
       "      <td>Nyamasheke</td>\n",
       "      <td>401.3</td>\n",
       "      <td>854.5</td>\n",
       "      <td>5974.3</td>\n",
       "      <td>333.0</td>\n",
       "      <td>0.18</td>\n",
       "      <td>290.1</td>\n",
       "      <td>NaN</td>\n",
       "      <td>386.0</td>\n",
       "      <td>8239.38</td>\n",
       "    </tr>\n",
       "    <tr>\n",
       "      <th>27</th>\n",
       "      <td>Rubavu</td>\n",
       "      <td>3313.0</td>\n",
       "      <td>NaN</td>\n",
       "      <td>6242.0</td>\n",
       "      <td>NaN</td>\n",
       "      <td>4307.50</td>\n",
       "      <td>NaN</td>\n",
       "      <td>NaN</td>\n",
       "      <td>NaN</td>\n",
       "      <td>13862.50</td>\n",
       "    </tr>\n",
       "    <tr>\n",
       "      <th>28</th>\n",
       "      <td>Rusizi</td>\n",
       "      <td>1364.0</td>\n",
       "      <td>12864.0</td>\n",
       "      <td>992.5</td>\n",
       "      <td>1410.0</td>\n",
       "      <td>24.00</td>\n",
       "      <td>527.0</td>\n",
       "      <td>NaN</td>\n",
       "      <td>1099.0</td>\n",
       "      <td>18280.50</td>\n",
       "    </tr>\n",
       "    <tr>\n",
       "      <th>29</th>\n",
       "      <td>Rutsiro</td>\n",
       "      <td>2642.5</td>\n",
       "      <td>NaN</td>\n",
       "      <td>4824.5</td>\n",
       "      <td>NaN</td>\n",
       "      <td>1601.50</td>\n",
       "      <td>75.0</td>\n",
       "      <td>309.0</td>\n",
       "      <td>NaN</td>\n",
       "      <td>9452.50</td>\n",
       "    </tr>\n",
       "    <tr>\n",
       "      <th>30</th>\n",
       "      <td>Total</td>\n",
       "      <td>57730.1</td>\n",
       "      <td>197405.1</td>\n",
       "      <td>92965.6</td>\n",
       "      <td>12650.1</td>\n",
       "      <td>34745.68</td>\n",
       "      <td>33283.2</td>\n",
       "      <td>19098.2</td>\n",
       "      <td>11754.5</td>\n",
       "      <td>459632.48</td>\n",
       "    </tr>\n",
       "  </tbody>\n",
       "</table>\n",
       "</div>"
      ],
      "text/plain": [
       "      district    maize  bush_beans  climbing_beans     rice  irish_potatoes  \\\n",
       "26  Nyamasheke    401.3       854.5          5974.3    333.0            0.18   \n",
       "27      Rubavu   3313.0         NaN          6242.0      NaN         4307.50   \n",
       "28      Rusizi   1364.0     12864.0           992.5   1410.0           24.00   \n",
       "29     Rutsiro   2642.5         NaN          4824.5      NaN         1601.50   \n",
       "30       Total  57730.1    197405.1         92965.6  12650.1        34745.68   \n",
       "\n",
       "    cassava    wheat  soya_beans      Total  \n",
       "26    290.1      NaN       386.0    8239.38  \n",
       "27      NaN      NaN         NaN   13862.50  \n",
       "28    527.0      NaN      1099.0   18280.50  \n",
       "29     75.0    309.0         NaN    9452.50  \n",
       "30  33283.2  19098.2     11754.5  459632.48  "
      ]
     },
     "execution_count": 35,
     "metadata": {},
     "output_type": "execute_result"
    }
   ],
   "source": [
    "df_planted = pd.read_csv('land_planted_crops.csv')\n",
    "df_planted.tail()"
   ]
  },
  {
   "cell_type": "code",
   "execution_count": 36,
   "metadata": {},
   "outputs": [],
   "source": [
    "total= df_planted.query('district == \"Total\"')\n",
    "maize_area = total.iloc[0]['maize']\n",
    "bush_beans_area = total.iloc[0]['bush_beans']\n",
    "climbing_beans_area = total.iloc[0]['climbing_beans']\n",
    "rice_area = total.iloc[0]['rice']\n",
    "irish_potatoes_area = total.iloc[0]['irish_potatoes']\n",
    "cassava_area = total.iloc[0]['cassava']\n",
    "wheat_area = total.iloc[0]['wheat']\n",
    "soya_beans_area= total.iloc[0]['soya_beans']"
   ]
  },
  {
   "cell_type": "code",
   "execution_count": 53,
   "metadata": {},
   "outputs": [
    {
     "data": {
      "image/png": "[encoded data removed]",
      "text/plain": [
       "<Figure size 432x432 with 1 Axes>"
      ]
     },
     "metadata": {},
     "output_type": "display_data"
    }
   ],
   "source": [
    "# import matplotlib.pyplot as plt\n",
    "# Pie chart\n",
    "labels = ['Maize', 'Bush Beans', 'Climbing Beans',  'Rice', 'Irish Potatoes', 'Cassava','wheat', 'Soya']\n",
    "#sizes = [57730.1, 197405.1, 92965.6, 12650.1, 34745.68, 33283.2, 19098.2, 16256.4]\n",
    "sizes = [maize_area, bush_beans_area, climbing_beans_area, rice_area, irish_potatoes_area, cassava_area, wheat_area, soya_beans_area]\n",
    "#colors\n",
    "colors = ['#ff9999','#66b3ff','#99ff99','#ffcc99']\n",
    "#explsion\n",
    "explode = (0.07,0.07,0.07,0.07, 0.07, 0.07, 0.07,0.07)\n",
    " \n",
    "plt.pie(sizes, colors = colors, labels=labels, autopct='%1.1f%%', startangle=90, pctdistance=0.85, explode = explode)\n",
    "#draw circle\n",
    "centre_circle = plt.Circle((0,0),0.70,fc='white')\n",
    "fig = plt.gcf()\n",
    "fig.gca().add_artist(centre_circle)\n",
    "# Equal aspect ratio ensures that pie is drawn as a circle\n",
    "ax1.axis('equal')  \n",
    "plt.title('Planted Areas, by Crops')\n",
    "plt.tight_layout()\n",
    "plt.show()"
   ]
  },
  {
   "cell_type": "markdown",
   "metadata": {},
   "source": [
    "### Beans are the most planted crops at the national level. In 2018-2019, taking 63.1% of all planted area in the country. the type most planted was Bush Beans (42.9%), followed by Climbing Beans (20.2%). The next most planted crop is Maize with 12.6%"
   ]
  },
  {
   "cell_type": "code",
   "execution_count": null,
   "metadata": {},
   "outputs": [],
   "source": [
    "df_cows = pd.read_csv('cows_distributed_progress.csv')\n",
    "df_cows.tail(5)"
   ]
  },
  {
   "cell_type": "code",
   "execution_count": 4,
   "metadata": {},
   "outputs": [],
   "source": [
    "total= df_cows.query('district == \"Total\"')\n",
    "earmarked_cows = total.iloc[0]['earmarked_cows']\n",
    "initiative_cows = total.iloc[0]['initiative_cows']\n",
    "partners_cows = total.iloc[0]['partners_cows']\n",
    "passon_cows = total.iloc[0]['passon_cows']"
   ]
  },
  {
   "cell_type": "code",
   "execution_count": null,
   "metadata": {},
   "outputs": [],
   "source": []
  },
  {
   "cell_type": "code",
   "execution_count": 39,
   "metadata": {
    "extensions": {
     "jupyter_dashboards": {
      "version": 1,
      "views": {
       "grid_default": {},
       "report_default": {}
      }
     }
    }
   },
   "outputs": [
    {
     "data": {
      "text/html": [
       "<div>\n",
       "<style scoped>\n",
       "    .dataframe tbody tr th:only-of-type {\n",
       "        vertical-align: middle;\n",
       "    }\n",
       "\n",
       "    .dataframe tbody tr th {\n",
       "        vertical-align: top;\n",
       "    }\n",
       "\n",
       "    .dataframe thead th {\n",
       "        text-align: right;\n",
       "    }\n",
       "</style>\n",
       "<table border=\"1\" class=\"dataframe\">\n",
       "  <thead>\n",
       "    <tr style=\"text-align: right;\">\n",
       "      <th></th>\n",
       "      <th>districts</th>\n",
       "      <th>DAP</th>\n",
       "      <th>UREA</th>\n",
       "      <th>NPK</th>\n",
       "      <th>KCL</th>\n",
       "      <th>Lime</th>\n",
       "      <th>Winner</th>\n",
       "      <th>Compost</th>\n",
       "    </tr>\n",
       "  </thead>\n",
       "  <tbody>\n",
       "    <tr>\n",
       "      <th>26</th>\n",
       "      <td>Nyamasheke</td>\n",
       "      <td>2,002</td>\n",
       "      <td>4,584</td>\n",
       "      <td>4,603</td>\n",
       "      <td>NaN</td>\n",
       "      <td>NaN</td>\n",
       "      <td>NaN</td>\n",
       "      <td>NaN</td>\n",
       "    </tr>\n",
       "    <tr>\n",
       "      <th>27</th>\n",
       "      <td>Rubavu</td>\n",
       "      <td>4,800</td>\n",
       "      <td>12,350</td>\n",
       "      <td>12,990</td>\n",
       "      <td>NaN</td>\n",
       "      <td>NaN</td>\n",
       "      <td>1,180</td>\n",
       "      <td>NaN</td>\n",
       "    </tr>\n",
       "    <tr>\n",
       "      <th>28</th>\n",
       "      <td>Rusizi</td>\n",
       "      <td>36</td>\n",
       "      <td>25</td>\n",
       "      <td>NaN</td>\n",
       "      <td>NaN</td>\n",
       "      <td>NaN</td>\n",
       "      <td>NaN</td>\n",
       "      <td>NaN</td>\n",
       "    </tr>\n",
       "    <tr>\n",
       "      <th>29</th>\n",
       "      <td>Rutsiro</td>\n",
       "      <td>120</td>\n",
       "      <td>367</td>\n",
       "      <td>700</td>\n",
       "      <td>NaN</td>\n",
       "      <td>NaN</td>\n",
       "      <td>NaN</td>\n",
       "      <td>NaN</td>\n",
       "    </tr>\n",
       "    <tr>\n",
       "      <th>30</th>\n",
       "      <td>Total</td>\n",
       "      <td>1,143,932.50</td>\n",
       "      <td>569,896</td>\n",
       "      <td>1,410,218.40</td>\n",
       "      <td>19,924.50</td>\n",
       "      <td>1,239,511.30</td>\n",
       "      <td>32,390</td>\n",
       "      <td>1,259,809</td>\n",
       "    </tr>\n",
       "  </tbody>\n",
       "</table>\n",
       "</div>"
      ],
      "text/plain": [
       "     districts           DAP     UREA           NPK        KCL          Lime  \\\n",
       "26  Nyamasheke         2,002    4,584         4,603        NaN           NaN   \n",
       "27      Rubavu         4,800   12,350        12,990        NaN           NaN   \n",
       "28      Rusizi            36       25           NaN        NaN           NaN   \n",
       "29     Rutsiro           120      367           700        NaN           NaN   \n",
       "30       Total  1,143,932.50  569,896  1,410,218.40  19,924.50  1,239,511.30   \n",
       "\n",
       "    Winner    Compost  \n",
       "26     NaN        NaN  \n",
       "27   1,180        NaN  \n",
       "28     NaN        NaN  \n",
       "29     NaN        NaN  \n",
       "30  32,390  1,259,809  "
      ]
     },
     "execution_count": 39,
     "metadata": {},
     "output_type": "execute_result"
    }
   ],
   "source": [
    "df_fertilisers = pd.read_csv('fertilisers_used_kg.csv')\n",
    "df_fertilisers.tail()"
   ]
  },
  {
   "cell_type": "code",
   "execution_count": 43,
   "metadata": {},
   "outputs": [
    {
     "data": {
      "text/html": [
       "<div>\n",
       "<style scoped>\n",
       "    .dataframe tbody tr th:only-of-type {\n",
       "        vertical-align: middle;\n",
       "    }\n",
       "\n",
       "    .dataframe tbody tr th {\n",
       "        vertical-align: top;\n",
       "    }\n",
       "\n",
       "    .dataframe thead th {\n",
       "        text-align: right;\n",
       "    }\n",
       "</style>\n",
       "<table border=\"1\" class=\"dataframe\">\n",
       "  <thead>\n",
       "    <tr style=\"text-align: right;\">\n",
       "      <th></th>\n",
       "      <th>districts</th>\n",
       "      <th>maize_hybrid</th>\n",
       "      <th>maize_OPV</th>\n",
       "      <th>soya_beans</th>\n",
       "      <th>wheat_seeds</th>\n",
       "      <th>total</th>\n",
       "    </tr>\n",
       "  </thead>\n",
       "  <tbody>\n",
       "    <tr>\n",
       "      <th>26</th>\n",
       "      <td>Nyamasheke</td>\n",
       "      <td>5205.0</td>\n",
       "      <td>3200.0</td>\n",
       "      <td>504.0</td>\n",
       "      <td>NaN</td>\n",
       "      <td>8909.0</td>\n",
       "    </tr>\n",
       "    <tr>\n",
       "      <th>27</th>\n",
       "      <td>Rubavu</td>\n",
       "      <td>6010.8</td>\n",
       "      <td>9542.0</td>\n",
       "      <td>NaN</td>\n",
       "      <td>NaN</td>\n",
       "      <td>15552.8</td>\n",
       "    </tr>\n",
       "    <tr>\n",
       "      <th>28</th>\n",
       "      <td>Rusizi</td>\n",
       "      <td>2562.0</td>\n",
       "      <td>NaN</td>\n",
       "      <td>NaN</td>\n",
       "      <td>NaN</td>\n",
       "      <td>2562.0</td>\n",
       "    </tr>\n",
       "    <tr>\n",
       "      <th>29</th>\n",
       "      <td>Rutsiro</td>\n",
       "      <td>14018.0</td>\n",
       "      <td>NaN</td>\n",
       "      <td>NaN</td>\n",
       "      <td>5850.0</td>\n",
       "      <td>19868.0</td>\n",
       "    </tr>\n",
       "    <tr>\n",
       "      <th>30</th>\n",
       "      <td>total</td>\n",
       "      <td>361075.1</td>\n",
       "      <td>70727.0</td>\n",
       "      <td>73961.9</td>\n",
       "      <td>251602.0</td>\n",
       "      <td>757366.0</td>\n",
       "    </tr>\n",
       "  </tbody>\n",
       "</table>\n",
       "</div>"
      ],
      "text/plain": [
       "     districts  maize_hybrid  maize_OPV  soya_beans  wheat_seeds     total\n",
       "26  Nyamasheke        5205.0     3200.0       504.0          NaN    8909.0\n",
       "27      Rubavu        6010.8     9542.0         NaN          NaN   15552.8\n",
       "28      Rusizi        2562.0        NaN         NaN          NaN    2562.0\n",
       "29     Rutsiro       14018.0        NaN         NaN       5850.0   19868.0\n",
       "30       total      361075.1    70727.0     73961.9     251602.0  757366.0"
      ]
     },
     "execution_count": 43,
     "metadata": {},
     "output_type": "execute_result"
    }
   ],
   "source": [
    "df_seeds = pd.read_csv('kg_seeds_used.csv')\n",
    "df_seeds.tail()"
   ]
  },
  {
   "cell_type": "code",
   "execution_count": 45,
   "metadata": {},
   "outputs": [],
   "source": [
    "total= df_seeds.query('districts == \"total\"')\n",
    "maize_hybrid_seeds = total.iloc[0]['maize_hybrid']\n",
    "maize_OPV_seeds = total.iloc[0]['maize_OPV']\n",
    "soya_beans_seeds = total.iloc[0]['soya_beans']\n",
    "wheat_seeds = total.iloc[0]['wheat_seeds']"
   ]
  },
  {
   "cell_type": "code",
   "execution_count": 57,
   "metadata": {},
   "outputs": [
    {
     "data": {
      "image/png": "[encoded data removed]",
      "text/plain": [
       "<Figure size 864x576 with 1 Axes>"
      ]
     },
     "metadata": {
      "needs_background": "light"
     },
     "output_type": "display_data"
    }
   ],
   "source": [
    "seed_type = ('Maize Hybrids', 'Maize OPV', 'Soya Beans', 'Wheat')\n",
    "breed_count = [maize_hybrid_seeds, maize_OPV_seeds, soya_beans_seeds, wheat_seeds]\n",
    "#colors\n",
    "colors = ['#ff9999','#66b3ff','#99ff99','#ffcc99']\n",
    "fig,ax = plt.subplots(figsize = (12,8))\n",
    "ax.barh(seed_type, breed_count, alpha=0.7, color=colors)\n",
    "plt.yticks(seed_type)\n",
    "plt.xlabel('Seeds (in Kilogram)')\n",
    "plt.title('Quantity of Seeds Used by Crops (in KG)')\n",
    "plt.show()"
   ]
  },
  {
   "cell_type": "markdown",
   "metadata": {},
   "source": [
    "### Maize and then wheat where the most used types of seeds"
   ]
  },
  {
   "cell_type": "markdown",
   "metadata": {
    "extensions": {
     "jupyter_dashboards": {
      "version": 1,
      "views": {
       "grid_default": {},
       "report_default": {}
      }
     }
    }
   },
   "source": [
    "## Distributed cows, in Girinka, at the National Level"
   ]
  },
  {
   "cell_type": "code",
   "execution_count": 60,
   "metadata": {
    "extensions": {
     "jupyter_dashboards": {
      "version": 1,
      "views": {
       "grid_default": {},
       "report_default": {}
      }
     }
    },
    "slideshow": {
     "slide_type": "-"
    },
    "tags": [
     "{",
     "\"tags\":",
     "[",
     "\"hidecode\"",
     "]",
     "}"
    ]
   },
   "outputs": [
    {
     "data": {
      "image/png": "[encoded data removed]",
      "text/plain": [
       "<Figure size 432x432 with 1 Axes>"
      ]
     },
     "metadata": {},
     "output_type": "display_data"
    }
   ],
   "source": [
    "{\n",
    "    \"tags\": [\n",
    "        \"hidecode\",\n",
    "    ]\n",
    "}\n",
    "earmarked_cows\n",
    "initiative_cows\n",
    "partners_cows\n",
    "passon_cows\n",
    "labels = 'Earmarked Cows', 'Local Initiatives Cows', 'Partners Cows', 'Passon Cows'\n",
    "sizes = [earmarked_cows, partners_cows ,partners_cows, passon_cows]\n",
    "#colors = ('red', 'cyan', 'b', 'g')\n",
    "explode = (0.1, 0.1, 0, 0)  # only \"explode\" 1st & 2nd slice \n",
    "\n",
    "fig1, ax1 = plt.subplots()\n",
    "\n",
    "ax1.pie(sizes, explode=explode, labels=labels, autopct='%1.1f%%',\n",
    "        shadow=True, startangle=90)\n",
    "plt.title('Proportions of Cows Distributed, by Provenance')\n",
    "\n",
    "rcParams['figure.figsize'] = 6,6\n",
    "ax1.axis('equal')  # Equal aspect ratio ensures that pie is drawn as a circle.\n",
    "plt.show()"
   ]
  },
  {
   "cell_type": "markdown",
   "metadata": {
    "extensions": {
     "jupyter_dashboards": {
      "version": 1,
      "views": {
       "grid_default": {},
       "report_default": {}
      }
     }
    }
   },
   "source": []
  },
  {
   "cell_type": "code",
   "execution_count": null,
   "metadata": {
    "extensions": {
     "jupyter_dashboards": {
      "version": 1,
      "views": {
       "grid_default": {},
       "report_default": {}
      }
     }
    }
   },
   "outputs": [],
   "source": []
  }
 ],
 "metadata": {
  "extensions": {
   "jupyter_dashboards": {
    "activeView": "grid_default",
    "version": 1,
    "views": {
     "grid_default": {
      "cellMargin": 10,
      "defaultCellHeight": 20,
      "maxColumns": 12,
      "name": "grid",
      "type": "grid"
     },
     "report_default": {
      "name": "report",
      "type": "report"
     }
    }
   }
  },
  "kernelspec": {
   "display_name": "Python 3",
   "language": "python",
   "name": "python3"
  },
  "language_info": {
   "codemirror_mode": {
    "name": "ipython",
    "version": 3
   },
   "file_extension": ".py",
   "mimetype": "text/x-python",
   "name": "python",
   "nbconvert_exporter": "python",
   "pygments_lexer": "ipython3",
   "version": "3.7.3"
  }
 },
 "nbformat": 4,
 "nbformat_minor": 2
}
